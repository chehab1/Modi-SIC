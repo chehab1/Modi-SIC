{
 "cells": [
  {
   "cell_type": "code",
   "execution_count": 1,
   "id": "c1001cde",
   "metadata": {},
   "outputs": [],
   "source": [
    "import pandas as pd"
   ]
  },
  {
   "cell_type": "code",
   "execution_count": 3,
   "id": "d914c1a0",
   "metadata": {},
   "outputs": [],
   "source": [
    "labels = []\n",
    "insts = []\n",
    "values = []"
   ]
  },
  {
   "cell_type": "code",
   "execution_count": 4,
   "id": "4890b9ca",
   "metadata": {},
   "outputs": [],
   "source": [
    "data = {\n",
    "    'label':labels,\n",
    "    'inst':insts,\n",
    "    'value':values\n",
    "}"
   ]
  },
  {
   "cell_type": "code",
   "execution_count": null,
   "id": "47928533",
   "metadata": {},
   "outputs": [],
   "source": []
  }
 ],
 "metadata": {
  "kernelspec": {
   "display_name": "Python 3 (ipykernel)",
   "language": "python",
   "name": "python3"
  },
  "language_info": {
   "codemirror_mode": {
    "name": "ipython",
    "version": 3
   },
   "file_extension": ".py",
   "mimetype": "text/x-python",
   "name": "python",
   "nbconvert_exporter": "python",
   "pygments_lexer": "ipython3",
   "version": "3.11.0"
  }
 },
 "nbformat": 4,
 "nbformat_minor": 5
}
