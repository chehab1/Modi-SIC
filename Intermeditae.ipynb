{
 "cells": [
  {
   "cell_type": "code",
   "execution_count": 2,
   "id": "fee01b34",
   "metadata": {},
   "outputs": [],
   "source": [
    "import pandas as pd\n",
    "label "
   ]
  },
  {
   "cell_type": "code",
   "execution_count": 3,
   "id": "11a0c8b2",
   "metadata": {},
   "outputs": [],
   "source": [
    "table = {\n",
    "    \"pn\": [],\n",
    "    \"label\": [],\n",
    "    \"inst\": [],\n",
    "    \"rp\": [],\n",
    "    \"comment\": []\n",
    "}"
   ]
  },
  {
   "cell_type": "code",
   "execution_count": 4,
   "id": "540063a3",
   "metadata": {},
   "outputs": [],
   "source": [
    "df = pd.DataFrame(table)"
   ]
  },
  {
   "cell_type": "code",
   "execution_count": 5,
   "id": "7a9855cd",
   "metadata": {},
   "outputs": [
    {
     "data": {
      "text/html": [
       "<div>\n",
       "<style scoped>\n",
       "    .dataframe tbody tr th:only-of-type {\n",
       "        vertical-align: middle;\n",
       "    }\n",
       "\n",
       "    .dataframe tbody tr th {\n",
       "        vertical-align: top;\n",
       "    }\n",
       "\n",
       "    .dataframe thead th {\n",
       "        text-align: right;\n",
       "    }\n",
       "</style>\n",
       "<table border=\"1\" class=\"dataframe\">\n",
       "  <thead>\n",
       "    <tr style=\"text-align: right;\">\n",
       "      <th></th>\n",
       "      <th>pn</th>\n",
       "      <th>label</th>\n",
       "      <th>inst</th>\n",
       "      <th>rp</th>\n",
       "      <th>comment</th>\n",
       "    </tr>\n",
       "  </thead>\n",
       "  <tbody>\n",
       "  </tbody>\n",
       "</table>\n",
       "</div>"
      ],
      "text/plain": [
       "Empty DataFrame\n",
       "Columns: [pn, label, inst, rp, comment]\n",
       "Index: []"
      ]
     },
     "execution_count": 5,
     "metadata": {},
     "output_type": "execute_result"
    }
   ],
   "source": [
    "df"
   ]
  },
  {
   "cell_type": "code",
   "execution_count": 61,
   "id": "34196356",
   "metadata": {},
   "outputs": [],
   "source": [
    "f = open('rsc/inputs/in.txt' , 'r')\n"
   ]
  },
  {
   "cell_type": "code",
   "execution_count": 65,
   "id": "948bbce3",
   "metadata": {},
   "outputs": [
    {
     "data": {
      "text/plain": [
       "'25\\t\\t\\tCOMP\\t\\tZERO\\n'"
      ]
     },
     "execution_count": 65,
     "metadata": {},
     "output_type": "execute_result"
    }
   ],
   "source": [
    "txt = f.readline()\n",
    "txt"
   ]
  },
  {
   "cell_type": "code",
   "execution_count": null,
   "id": "fee03947",
   "metadata": {},
   "outputs": [],
   "source": []
  }
 ],
 "metadata": {
  "kernelspec": {
   "display_name": "Python 3 (ipykernel)",
   "language": "python",
   "name": "python3"
  },
  "language_info": {
   "codemirror_mode": {
    "name": "ipython",
    "version": 3
   },
   "file_extension": ".py",
   "mimetype": "text/x-python",
   "name": "python",
   "nbconvert_exporter": "python",
   "pygments_lexer": "ipython3",
   "version": "3.10.7"
  }
 },
 "nbformat": 4,
 "nbformat_minor": 5
}
