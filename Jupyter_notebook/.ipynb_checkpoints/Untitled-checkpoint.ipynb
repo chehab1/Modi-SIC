{
 "cells": [
  {
   "cell_type": "code",
   "execution_count": 1,
   "id": "68f63d97",
   "metadata": {},
   "outputs": [],
   "source": [
    "s = 'chehab'"
   ]
  },
  {
   "cell_type": "code",
   "execution_count": 2,
   "id": "fde66704",
   "metadata": {},
   "outputs": [
    {
     "data": {
      "text/plain": [
       "'0000chehab'"
      ]
     },
     "execution_count": 2,
     "metadata": {},
     "output_type": "execute_result"
    }
   ],
   "source": [
    "s.zfill(10)"
   ]
  },
  {
   "cell_type": "code",
   "execution_count": null,
   "id": "3b4e2662",
   "metadata": {},
   "outputs": [],
   "source": []
  }
 ],
 "metadata": {
  "kernelspec": {
   "display_name": "Python 3 (ipykernel)",
   "language": "python",
   "name": "python3"
  },
  "language_info": {
   "codemirror_mode": {
    "name": "ipython",
    "version": 3
   },
   "file_extension": ".py",
   "mimetype": "text/x-python",
   "name": "python",
   "nbconvert_exporter": "python",
   "pygments_lexer": "ipython3",
   "version": "3.10.7"
  }
 },
 "nbformat": 4,
 "nbformat_minor": 5
}
